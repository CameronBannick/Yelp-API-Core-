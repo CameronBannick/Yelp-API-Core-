{
 "cells": [
  {
   "cell_type": "markdown",
   "id": "b4b3167b",
   "metadata": {},
   "source": [
    "# Imports"
   ]
  },
  {
   "cell_type": "code",
   "execution_count": 2,
   "id": "b1c03ef9",
   "metadata": {},
   "outputs": [],
   "source": [
    "#imports\n",
    "import numpy as np\n",
    "import pandas as pd\n",
    "import os, json, math, time\n",
    "from yelpapi import YelpAPI\n",
    "from tqdm.notebook import tqdm_notebook\n",
    "\n",
    "#API credentials\n",
    "with open(r\"C:\\Users\\camer\\OneDrive\\Documents\\GitHub\\dojo-env-setup\\.secret\\yelp_api.json\") as f: \n",
    "    login = json.load(f)\n",
    "yelp_api = YelpAPI(login['api-key'], timeout_s=5.0)"
   ]
  },
  {
   "cell_type": "markdown",
   "id": "1e84e962",
   "metadata": {},
   "source": [
    "#  Efficient API Prep"
   ]
  },
  {
   "cell_type": "code",
   "execution_count": 4,
   "id": "9d5076c4",
   "metadata": {},
   "outputs": [],
   "source": [
    "#defining API variables\n",
    "LOCATION = 'Santa Monica, CA'\n",
    "TERM = 'Italian'\n",
    "\n",
    "#defining path to save in progress calls\n",
    "JSON_FILE = 'Data/results_in_progress_santamonica_italian'\n",
    "file_exists = os.path.isfile(JSON_FILE)"
   ]
  },
  {
   "cell_type": "code",
   "execution_count": 8,
   "id": "7549952f",
   "metadata": {
    "scrolled": true
   },
   "outputs": [
    {
     "name": "stdout",
     "output_type": "stream",
     "text": [
      "[i] Data/results_in_progress_santamonica_italian not found, Saving empty list to file\n"
     ]
    }
   ],
   "source": [
    "#creating if/else statement for file saving \n",
    "if file_exists == False: \n",
    "    Data = os.path.dirname(JSON_FILE)\n",
    "    if len(Data)>0:\n",
    "        os.makedirs(Data, exist_ok=True)\n",
    "    print(f'[i] {JSON_FILE} not found, Saving empty list to file')\n",
    "    with open(JSON_FILE, 'w') as f:\n",
    "        json.dump([], f)\n",
    "else: print(f'[i] {JSON_FILE} already exists')"
   ]
  },
  {
   "cell_type": "code",
   "execution_count": 11,
   "id": "6ee4d1a3",
   "metadata": {
    "scrolled": true
   },
   "outputs": [
    {
     "name": "stdout",
     "output_type": "stream",
     "text": [
      "- 0 previous results found\n"
     ]
    }
   ],
   "source": [
    "#loading previous results for offset amount\n",
    "with open(JSON_FILE, 'r') as f:\n",
    "    previous_results = json.load(f)\n",
    "\n",
    "n_results = len(previous_results)\n",
    "print(f'- {n_results} previous results found')"
   ]
  },
  {
   "cell_type": "markdown",
   "id": "1d4769dd",
   "metadata": {},
   "source": [
    "#  API Search"
   ]
  },
  {
   "cell_type": "code",
   "execution_count": 13,
   "id": "97ee0bba",
   "metadata": {},
   "outputs": [
    {
     "data": {
      "text/plain": [
       "dict_keys(['businesses', 'total', 'region'])"
      ]
     },
     "execution_count": 13,
     "metadata": {},
     "output_type": "execute_result"
    }
   ],
   "source": [
    "#first query of yelp api\n",
    "results = yelp_api.search_query(location=LOCATION,\n",
    "                               term=TERM,\n",
    "                               offset=n_results)\n",
    "results.keys()"
   ]
  },
  {
   "cell_type": "code",
   "execution_count": 15,
   "id": "7329c5e2",
   "metadata": {},
   "outputs": [
    {
     "name": "stdout",
     "output_type": "stream",
     "text": [
      "Total Results = 732\n",
      "Results Per Page = 20\n"
     ]
    }
   ],
   "source": [
    "#total results\n",
    "total_results = results['total']\n",
    "#results per page\n",
    "results_per_page = len(results['businesses'])\n",
    "#print results\n",
    "print(f\"Total Results = {total_results}\")\n",
    "print(f\"Results Per Page = {results_per_page}\")"
   ]
  },
  {
   "cell_type": "code",
   "execution_count": 16,
   "id": "8d61dbc4",
   "metadata": {},
   "outputs": [
    {
     "name": "stdout",
     "output_type": "stream",
     "text": [
      "Total Pages Needed = 37\n"
     ]
    }
   ],
   "source": [
    "#calculating total pages needed \n",
    "n_pages = math.ceil((total_results-n_results)/results_per_page)\n",
    "print(f'Total Pages Needed = {n_pages}')"
   ]
  },
  {
   "cell_type": "code",
   "execution_count": 17,
   "id": "205a1a48",
   "metadata": {},
   "outputs": [],
   "source": [
    "#combine new results in old list\n",
    "previous_results.extend(results['businesses'])\n",
    "with open(JSON_FILE, 'w') as f:\n",
    "    json.dump(previous_results, f)"
   ]
  },
  {
   "cell_type": "code",
   "execution_count": 18,
   "id": "3eec4f38",
   "metadata": {},
   "outputs": [
    {
     "data": {
      "application/vnd.jupyter.widget-view+json": {
       "model_id": "9670286d0e8944729fd23a64e785bef3",
       "version_major": 2,
       "version_minor": 0
      },
      "text/plain": [
       "  0%|          | 0/37 [00:00<?, ?it/s]"
      ]
     },
     "metadata": {},
     "output_type": "display_data"
    }
   ],
   "source": [
    "#create progress bar\n",
    "for i in tqdm_notebook(range(n_pages)):\n",
    "    time.sleep(.2)"
   ]
  }
 ],
 "metadata": {
  "kernelspec": {
   "display_name": "Python (dojo-env)",
   "language": "python",
   "name": "dojo-env"
  },
  "language_info": {
   "codemirror_mode": {
    "name": "ipython",
    "version": 3
   },
   "file_extension": ".py",
   "mimetype": "text/x-python",
   "name": "python",
   "nbconvert_exporter": "python",
   "pygments_lexer": "ipython3",
   "version": "3.8.13"
  },
  "toc": {
   "base_numbering": 1,
   "nav_menu": {},
   "number_sections": true,
   "sideBar": true,
   "skip_h1_title": false,
   "title_cell": "Table of Contents",
   "title_sidebar": "Contents",
   "toc_cell": false,
   "toc_position": {},
   "toc_section_display": true,
   "toc_window_display": false
  }
 },
 "nbformat": 4,
 "nbformat_minor": 5
}
